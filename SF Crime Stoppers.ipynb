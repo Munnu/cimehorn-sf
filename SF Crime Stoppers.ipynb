{
 "cells": [
  {
   "cell_type": "code",
   "execution_count": 64,
   "metadata": {
    "collapsed": false
   },
   "outputs": [],
   "source": [
    "%matplotlib inline\n",
    "import pandas as pd\n",
    "import numpy as np\n",
    "import matplotlib as mpl\n",
    "import matplotlib.pyplot as plt\n",
    "import ast\n",
    "from geopy.distance import distance"
   ]
  },
  {
   "cell_type": "code",
   "execution_count": 31,
   "metadata": {
    "collapsed": false
   },
   "outputs": [],
   "source": [
    "path = r'Map__Crime_Incidents_-_from_1_Jan_2003.csv'\n",
    "\n",
    "df = pd.read_csv(path)"
   ]
  },
  {
   "cell_type": "code",
   "execution_count": 32,
   "metadata": {
    "collapsed": false
   },
   "outputs": [
    {
     "data": {
      "text/plain": [
       "Index([u'IncidntNum', u'Category', u'Descript', u'DayOfWeek', u'Date', u'Time',\n",
       "       u'PdDistrict', u'Resolution', u'Address', u'X', u'Y', u'Location'],\n",
       "      dtype='object')"
      ]
     },
     "execution_count": 32,
     "metadata": {},
     "output_type": "execute_result"
    }
   ],
   "source": [
    "df.columns"
   ]
  },
  {
   "cell_type": "code",
   "execution_count": 34,
   "metadata": {
    "collapsed": false
   },
   "outputs": [
    {
     "data": {
      "text/plain": [
       "<matplotlib.axes._subplots.AxesSubplot at 0x12800e210>"
      ]
     },
     "execution_count": 34,
     "metadata": {},
     "output_type": "execute_result"
    },
    {
     "data": {
      "image/png": "[encoded data removed]",
      "text/plain": [
       "<matplotlib.figure.Figure at 0x1116d0950>"
      ]
     },
     "metadata": {},
     "output_type": "display_data"
    }
   ],
   "source": [
    "df['DayOfWeek'].value_counts().plot(kind='bar')"
   ]
  },
  {
   "cell_type": "code",
   "execution_count": 35,
   "metadata": {
    "collapsed": false
   },
   "outputs": [
    {
     "data": {
      "text/plain": [
       "0          (37.7734305349811, -122.425722704575)\n",
       "1           (37.7978728855933, -122.39670853026)\n",
       "2          (37.7892525040522, -122.405254463024)\n",
       "3          (37.7914943051906, -122.420874632415)\n",
       "4          (37.7911776792224, -122.400748631911)\n",
       "5          (37.7887198688133, -122.402070243227)\n",
       "6          (37.7800304351156, -122.432116233695)\n",
       "7          (37.7737003358973, -122.420908634584)\n",
       "8          (37.7474613181905, -122.481305019184)\n",
       "9          (37.7294075591753, -122.404407189561)\n",
       "10         (37.7985525790132, -122.423985900144)\n",
       "11         (37.7765342338882, -122.404325678542)\n",
       "12          (37.775420706711, -122.403404791479)\n",
       "13         (37.7164758973784, -122.453994369282)\n",
       "14         (37.7738297399448, -122.498798508742)\n",
       "15         (37.7753128522284, -122.395021745914)\n",
       "16         (37.7753128522284, -122.395021745914)\n",
       "17         (37.7298789539444, -122.372013936604)\n",
       "18         (37.7433051722888, -122.468615356511)\n",
       "19         (37.7346975540144, -122.491277558988)\n",
       "20         (37.7722956522753, -122.444027612047)\n",
       "21         (37.7844788538745, -122.404270179486)\n",
       "22         (37.7596658144363, -122.501502160824)\n",
       "23         (37.7321638759455, -122.421305348396)\n",
       "24         (37.7742213204409, -122.436802574746)\n",
       "25         (37.7323536922436, -122.388158941787)\n",
       "26          (37.8013130714495, -122.42540353319)\n",
       "27         (37.7564864109309, -122.406539115148)\n",
       "28          (37.740897684723, -122.384709554356)\n",
       "29         (37.7549429267022, -122.473370728894)\n",
       "                           ...                  \n",
       "1896819     (37.766557098963, -122.420841988482)\n",
       "1896820    (37.7640972229024, -122.421738508476)\n",
       "1896821     (37.749064728447, -122.413678019359)\n",
       "1896822    (37.7163046735122, -122.440593031551)\n",
       "1896823     (37.7552453099076, -122.39565974671)\n",
       "1896824     (37.729470986758, -122.454890703071)\n",
       "1896825    (37.7205466136117, -122.452027504184)\n",
       "1896826     (37.775420706711, -122.403404791479)\n",
       "1896827    (37.7866019512795, -122.419812186232)\n",
       "1896828    (37.7764354063246, -122.415064887666)\n",
       "1896829    (37.7860646749873, -122.401692264348)\n",
       "1896830     (37.7759915316036, -122.43040309844)\n",
       "1896831     (37.7762695066166, -122.41725760507)\n",
       "1896832      (37.744688222803, -122.42039487496)\n",
       "1896833    (37.7919805766981, -122.397742235773)\n",
       "1896834    (37.7819536537257, -122.410041631816)\n",
       "1896835    (37.7753360810267, -122.446307120775)\n",
       "1896836     (37.775420706711, -122.403404791479)\n",
       "1896837    (37.7890234704903, -122.406096297772)\n",
       "1896838      (37.781526271747, -122.40950430935)\n",
       "1896839    (37.7690417439297, -122.450682500949)\n",
       "1896840      (37.7120920675614, -122.4208910342)\n",
       "1896841     (37.756577988934, -122.395229211885)\n",
       "1896842    (37.8060255339956, -122.409888227377)\n",
       "1896843    (37.7699549503465, -122.447783070559)\n",
       "1896844     (37.779911669335, -122.407474439624)\n",
       "1896845    (37.7641898631111, -122.415132425046)\n",
       "1896846    (37.7319474635662, -122.470055254999)\n",
       "1896847    (37.7595850478901, -122.404505574379)\n",
       "1896848     (37.760801062884, -122.435563016294)\n",
       "Name: Location, dtype: object"
      ]
     },
     "execution_count": 35,
     "metadata": {},
     "output_type": "execute_result"
    }
   ],
   "source": [
    "df['Location']"
   ]
  },
  {
   "cell_type": "code",
   "execution_count": 37,
   "metadata": {
    "collapsed": false
   },
   "outputs": [],
   "source": [
    "us = (37.785087399999995, -122.3973113)\n",
    "\n",
    "some_crime = (37.760801062884, -122.435563016294)"
   ]
  },
  {
   "cell_type": "code",
   "execution_count": 38,
   "metadata": {
    "collapsed": false
   },
   "outputs": [],
   "source": [
    "d = distance(us, some_crime)"
   ]
  },
  {
   "cell_type": "code",
   "execution_count": 39,
   "metadata": {
    "collapsed": false
   },
   "outputs": [
    {
     "data": {
      "text/plain": [
       "14158.49785478934"
      ]
     },
     "execution_count": 39,
     "metadata": {},
     "output_type": "execute_result"
    }
   ],
   "source": [
    "d.feet"
   ]
  },
  {
   "cell_type": "code",
   "execution_count": 56,
   "metadata": {
    "collapsed": false
   },
   "outputs": [],
   "source": [
    "l = df['Location']"
   ]
  },
  {
   "cell_type": "code",
   "execution_count": 60,
   "metadata": {
    "collapsed": false
   },
   "outputs": [
    {
     "data": {
      "text/plain": [
       "(0, '(37.7734305349811, -122.425722704575)')"
      ]
     },
     "execution_count": 60,
     "metadata": {},
     "output_type": "execute_result"
    }
   ],
   "source": [
    "next(l.iteritems())"
   ]
  },
  {
   "cell_type": "code",
   "execution_count": 65,
   "metadata": {
    "collapsed": false
   },
   "outputs": [
    {
     "data": {
      "text/plain": [
       "(37.7734305349811, -122.425722704575)"
      ]
     },
     "execution_count": 65,
     "metadata": {},
     "output_type": "execute_result"
    }
   ],
   "source": [
    "ast.literal_eval('(37.7734305349811, -122.425722704575)')"
   ]
  },
  {
   "cell_type": "code",
   "execution_count": 93,
   "metadata": {
    "collapsed": false
   },
   "outputs": [
    {
     "name": "stdout",
     "output_type": "stream",
     "text": [
      "[IncidntNum                                150027849\n",
      "Category                               NON-CRIMINAL\n",
      "Descript                     SEARCH WARRANT SERVICE\n",
      "DayOfWeek                                    Friday\n",
      "Date                         01/09/2015 12:00:00 AM\n",
      "Time                                          22:02\n",
      "PdDistrict                                 NORTHERN\n",
      "Resolution                           ARREST, BOOKED\n",
      "Address                      200 Block of LAGUNA ST\n",
      "X                                          -122.426\n",
      "Y                                           37.7734\n",
      "Location      (37.7734305349811, -122.425722704575)\n",
      "Name: 0, dtype: object]\n"
     ]
    }
   ],
   "source": [
    "def within_1000_feet_of_us(number_of_feet, current_coordinates):\n",
    "    indices = []\n",
    "    for index, string in df['Location'].iteritems():\n",
    "        if index > 1000:\n",
    "            return indices\n",
    "        coordinates = ast.literal_eval(string)\n",
    "        if distance(coordinates, current_coordinates).feet < number_of_feet:\n",
    "            indices.append(df.iloc[index])\n",
    "\n",
    "our_location = '(37.7734305349811, -122.425722704575)'\n",
    "search_distance = 50\n",
    "print within_1000_feet_of_us(search_distance, our_location)"
   ]
  },
  {
   "cell_type": "code",
   "execution_count": 81,
   "metadata": {
    "collapsed": false
   },
   "outputs": [
    {
     "data": {
      "text/plain": [
       "IncidntNum                                150008388\n",
       "Category                             SUSPICIOUS OCC\n",
       "Descript                    INVESTIGATIVE DETENTION\n",
       "DayOfWeek                                  Saturday\n",
       "Date                         01/03/2015 12:00:00 AM\n",
       "Time                                          18:00\n",
       "PdDistrict                                 SOUTHERN\n",
       "Resolution                           ARREST, BOOKED\n",
       "Address                         0 Block of ESSEX ST\n",
       "X                                          -122.395\n",
       "Y                                            37.786\n",
       "Location      (37.7859930647181, -122.395062469002)\n",
       "Name: 140, dtype: object"
      ]
     },
     "execution_count": 81,
     "metadata": {},
     "output_type": "execute_result"
    }
   ],
   "source": [
    "df.iloc[140]"
   ]
  },
  {
   "cell_type": "code",
   "execution_count": null,
   "metadata": {
    "collapsed": true
   },
   "outputs": [],
   "source": []
  }
 ],
 "metadata": {
  "kernelspec": {
   "display_name": "Python 2",
   "language": "python",
   "name": "python2"
  },
  "language_info": {
   "codemirror_mode": {
    "name": "ipython",
    "version": 2
   },
   "file_extension": ".py",
   "mimetype": "text/x-python",
   "name": "python",
   "nbconvert_exporter": "python",
   "pygments_lexer": "ipython2",
   "version": "2.7.9"
  }
 },
 "nbformat": 4,
 "nbformat_minor": 0
}
